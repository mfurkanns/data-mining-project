{
 "cells": [
  {
   "cell_type": "markdown",
   "metadata": {},
   "source": [
    "# Audit Risk\n",
    "\n",
    "## Veri Madenciliği Proje Ödevi\n",
    "\n",
    "### Mehmet Furkan Şahin - 16011066\n",
    "\n",
    "### NOT : Ekran çıktıları görünmezse projeye https://github.com/mfurkanns/data-mining-project adresinden ulaşabilirsiniz."
   ]
  },
  {
   "cell_type": "code",
   "execution_count": 1,
   "metadata": {},
   "outputs": [
    {
     "name": "stdout",
     "output_type": "stream",
     "text": [
      "Requirement already satisfied: tabulate in c:\\users\\sahin\\anaconda3\\lib\\site-packages (0.8.7)\n",
      "Note: you may need to restart the kernel to use updated packages.\n"
     ]
    }
   ],
   "source": [
    "pip install tabulate"
   ]
  },
  {
   "cell_type": "code",
   "execution_count": 2,
   "metadata": {},
   "outputs": [],
   "source": [
    "import numpy as np \n",
    "import pandas as pd \n",
    "import seaborn as sns\n",
    "import matplotlib.pyplot as plt"
   ]
  },
  {
   "cell_type": "markdown",
   "metadata": {},
   "source": [
    "# Veri Analizi\n",
    "\n",
    "\n",
    "Veri setinin amacı, mevcut ve geçmiş risk faktörleri göz önünde bulundurarak bir firmanın dolandırıcı olup olmadığını tahmin edebilecek bir sınıflandırma modeli oluşturmak ve denetçilere yardımcı olmaktır.\n",
    "\n",
    "Bu araştırma çalışması, aynı zamanda Hindistan'daki devlet firmalarının dış denetçisi olan bir dış devlet denetim şirketinin bir vaka çalışmasıdır. Denetim planlaması sırasında, denetçiler farklı devlet dairelerinin işlerini inceler ve hedefi çok yüksek olan ve yanlış beyanların önemine sahip ofisleri ziyaret etmeyi hedefler. Bu, finansal raporlama hedefleriyle ilgili risk değerlendirilerek hesaplanır (Houston, Peters ve Pratt 1999). Çalışmanın üç temel amacı aşağıdaki gibidir:\n",
    "\n",
    "1 - Denetim çalışanları ile derinlemesine görüşme yaparak şirketin denetim risk analizi iş akışını anlamak ve denetim planlaması sırasında firmaların risk değerlendirmesi için bir karar verme çerçevesi önermek.\n",
    "\n",
    "2 - 776 hedef firma için Risk Denetim Puanını belirlemek için mevcut ve geçmiş risk faktörlerini incelemek, incelenen risk faktörlerini sıralamak için Parçacık Sürü Optimizasyonu (PSO) algoritmasını uygulamak ve aday gösterilen Risk Denetim Sınıfını (Dolandırıcılık ve Sahtekarlık Yok) değerlendirmektir.\n",
    "\n",
    "3 - 776 hedef firma için Risk Denetim Puanını belirlemek için mevcut ve geçmiş risk faktörlerini incelemek, incelenen risk faktörlerini sıralamak için Parçacık Sürü Optimizasyonu (PSO) algoritmasını uygulamak ve aday gösterilen Risk Denetim Sınıfını (Dolandırıcılık ve Sahtekarlık Yok) değerlendirmek firmalar."
   ]
  },
  {
   "cell_type": "code",
   "execution_count": 3,
   "metadata": {},
   "outputs": [
    {
     "data": {
      "text/html": [
       "<div>\n",
       "<style scoped>\n",
       "    .dataframe tbody tr th:only-of-type {\n",
       "        vertical-align: middle;\n",
       "    }\n",
       "\n",
       "    .dataframe tbody tr th {\n",
       "        vertical-align: top;\n",
       "    }\n",
       "\n",
       "    .dataframe thead th {\n",
       "        text-align: right;\n",
       "    }\n",
       "</style>\n",
       "<table border=\"1\" class=\"dataframe\">\n",
       "  <thead>\n",
       "    <tr style=\"text-align: right;\">\n",
       "      <th></th>\n",
       "      <th>Sector_score</th>\n",
       "      <th>LOCATION_ID</th>\n",
       "      <th>PARA_A</th>\n",
       "      <th>SCORE_A</th>\n",
       "      <th>PARA_B</th>\n",
       "      <th>SCORE_B</th>\n",
       "      <th>TOTAL</th>\n",
       "      <th>numbers</th>\n",
       "      <th>Marks</th>\n",
       "      <th>Money_Value</th>\n",
       "      <th>MONEY_Marks</th>\n",
       "      <th>District</th>\n",
       "      <th>Loss</th>\n",
       "      <th>LOSS_SCORE</th>\n",
       "      <th>History</th>\n",
       "      <th>History_score</th>\n",
       "      <th>Score</th>\n",
       "      <th>Risk</th>\n",
       "    </tr>\n",
       "  </thead>\n",
       "  <tbody>\n",
       "    <tr>\n",
       "      <th>0</th>\n",
       "      <td>3.89</td>\n",
       "      <td>23</td>\n",
       "      <td>4.18</td>\n",
       "      <td>6</td>\n",
       "      <td>2.50</td>\n",
       "      <td>2</td>\n",
       "      <td>6.68</td>\n",
       "      <td>5.0</td>\n",
       "      <td>2</td>\n",
       "      <td>3.38</td>\n",
       "      <td>2</td>\n",
       "      <td>2</td>\n",
       "      <td>0</td>\n",
       "      <td>2</td>\n",
       "      <td>0</td>\n",
       "      <td>2</td>\n",
       "      <td>2.4</td>\n",
       "      <td>1</td>\n",
       "    </tr>\n",
       "    <tr>\n",
       "      <th>1</th>\n",
       "      <td>3.89</td>\n",
       "      <td>6</td>\n",
       "      <td>0.00</td>\n",
       "      <td>2</td>\n",
       "      <td>4.83</td>\n",
       "      <td>2</td>\n",
       "      <td>4.83</td>\n",
       "      <td>5.0</td>\n",
       "      <td>2</td>\n",
       "      <td>0.94</td>\n",
       "      <td>2</td>\n",
       "      <td>2</td>\n",
       "      <td>0</td>\n",
       "      <td>2</td>\n",
       "      <td>0</td>\n",
       "      <td>2</td>\n",
       "      <td>2.0</td>\n",
       "      <td>0</td>\n",
       "    </tr>\n",
       "    <tr>\n",
       "      <th>2</th>\n",
       "      <td>3.89</td>\n",
       "      <td>6</td>\n",
       "      <td>0.51</td>\n",
       "      <td>2</td>\n",
       "      <td>0.23</td>\n",
       "      <td>2</td>\n",
       "      <td>0.74</td>\n",
       "      <td>5.0</td>\n",
       "      <td>2</td>\n",
       "      <td>0.00</td>\n",
       "      <td>2</td>\n",
       "      <td>2</td>\n",
       "      <td>0</td>\n",
       "      <td>2</td>\n",
       "      <td>0</td>\n",
       "      <td>2</td>\n",
       "      <td>2.0</td>\n",
       "      <td>0</td>\n",
       "    </tr>\n",
       "    <tr>\n",
       "      <th>3</th>\n",
       "      <td>3.89</td>\n",
       "      <td>6</td>\n",
       "      <td>0.00</td>\n",
       "      <td>2</td>\n",
       "      <td>10.80</td>\n",
       "      <td>6</td>\n",
       "      <td>10.80</td>\n",
       "      <td>6.0</td>\n",
       "      <td>6</td>\n",
       "      <td>11.75</td>\n",
       "      <td>6</td>\n",
       "      <td>2</td>\n",
       "      <td>0</td>\n",
       "      <td>2</td>\n",
       "      <td>0</td>\n",
       "      <td>2</td>\n",
       "      <td>4.4</td>\n",
       "      <td>1</td>\n",
       "    </tr>\n",
       "    <tr>\n",
       "      <th>4</th>\n",
       "      <td>3.89</td>\n",
       "      <td>6</td>\n",
       "      <td>0.00</td>\n",
       "      <td>2</td>\n",
       "      <td>0.08</td>\n",
       "      <td>2</td>\n",
       "      <td>0.08</td>\n",
       "      <td>5.0</td>\n",
       "      <td>2</td>\n",
       "      <td>0.00</td>\n",
       "      <td>2</td>\n",
       "      <td>2</td>\n",
       "      <td>0</td>\n",
       "      <td>2</td>\n",
       "      <td>0</td>\n",
       "      <td>2</td>\n",
       "      <td>2.0</td>\n",
       "      <td>0</td>\n",
       "    </tr>\n",
       "  </tbody>\n",
       "</table>\n",
       "</div>"
      ],
      "text/plain": [
       "   Sector_score LOCATION_ID  PARA_A  SCORE_A  PARA_B  SCORE_B  TOTAL  numbers  \\\n",
       "0          3.89          23    4.18        6    2.50        2   6.68      5.0   \n",
       "1          3.89           6    0.00        2    4.83        2   4.83      5.0   \n",
       "2          3.89           6    0.51        2    0.23        2   0.74      5.0   \n",
       "3          3.89           6    0.00        2   10.80        6  10.80      6.0   \n",
       "4          3.89           6    0.00        2    0.08        2   0.08      5.0   \n",
       "\n",
       "   Marks  Money_Value  MONEY_Marks  District  Loss  LOSS_SCORE  History  \\\n",
       "0      2         3.38            2         2     0           2        0   \n",
       "1      2         0.94            2         2     0           2        0   \n",
       "2      2         0.00            2         2     0           2        0   \n",
       "3      6        11.75            6         2     0           2        0   \n",
       "4      2         0.00            2         2     0           2        0   \n",
       "\n",
       "   History_score  Score  Risk  \n",
       "0              2    2.4     1  \n",
       "1              2    2.0     0  \n",
       "2              2    2.0     0  \n",
       "3              2    4.4     1  \n",
       "4              2    2.0     0  "
      ]
     },
     "execution_count": 3,
     "metadata": {},
     "output_type": "execute_result"
    }
   ],
   "source": [
    "df = pd.read_csv('trial.csv')\n",
    "df.head()"
   ]
  },
  {
   "cell_type": "code",
   "execution_count": 4,
   "metadata": {},
   "outputs": [
    {
     "name": "stdout",
     "output_type": "stream",
     "text": [
      "<class 'pandas.core.frame.DataFrame'>\n",
      "RangeIndex: 776 entries, 0 to 775\n",
      "Data columns (total 18 columns):\n",
      " #   Column         Non-Null Count  Dtype  \n",
      "---  ------         --------------  -----  \n",
      " 0   Sector_score   776 non-null    float64\n",
      " 1   LOCATION_ID    776 non-null    object \n",
      " 2   PARA_A         776 non-null    float64\n",
      " 3   SCORE_A        776 non-null    int64  \n",
      " 4   PARA_B         776 non-null    float64\n",
      " 5   SCORE_B        776 non-null    int64  \n",
      " 6   TOTAL          776 non-null    float64\n",
      " 7   numbers        776 non-null    float64\n",
      " 8   Marks          776 non-null    int64  \n",
      " 9   Money_Value    775 non-null    float64\n",
      " 10  MONEY_Marks    776 non-null    int64  \n",
      " 11  District       776 non-null    int64  \n",
      " 12  Loss           776 non-null    int64  \n",
      " 13  LOSS_SCORE     776 non-null    int64  \n",
      " 14  History        776 non-null    int64  \n",
      " 15  History_score  776 non-null    int64  \n",
      " 16  Score          776 non-null    float64\n",
      " 17  Risk           776 non-null    int64  \n",
      "dtypes: float64(7), int64(10), object(1)\n",
      "memory usage: 109.2+ KB\n"
     ]
    }
   ],
   "source": [
    "df.info()"
   ]
  },
  {
   "cell_type": "markdown",
   "metadata": {},
   "source": [
    "Veriseti üzerindeki 18 adet özellik bulunmaktadır. Özelliklerin tanımı aşağıda verilmiştir.\n",
    "<img src=\"1.tablo.png\">\n",
    "<img src=\"2.tablo.png\">"
   ]
  },
  {
   "cell_type": "markdown",
   "metadata": {},
   "source": [
    "#### Sınıf Sayısı\n",
    "2 adettir. Bunlar riskli(1) ve riskli olmayan(0)"
   ]
  },
  {
   "cell_type": "code",
   "execution_count": 5,
   "metadata": {},
   "outputs": [
    {
     "data": {
      "text/plain": [
       "1    486\n",
       "0    290\n",
       "Name: Risk, dtype: int64"
      ]
     },
     "execution_count": 5,
     "metadata": {},
     "output_type": "execute_result"
    }
   ],
   "source": [
    "df['Risk'].value_counts()"
   ]
  },
  {
   "cell_type": "markdown",
   "metadata": {},
   "source": [
    "#### Her sınıfa düşen örnek sayısı \n",
    "Riskli olmayan sınıf(0) : 290 adet\n",
    "\n",
    "Riskli sınıf(1) : 486 adet"
   ]
  },
  {
   "cell_type": "code",
   "execution_count": 6,
   "metadata": {},
   "outputs": [
    {
     "data": {
      "text/plain": [
       "array([[<matplotlib.axes._subplots.AxesSubplot object at 0x00000171C4C7B2C8>]],\n",
       "      dtype=object)"
      ]
     },
     "execution_count": 6,
     "metadata": {},
     "output_type": "execute_result"
    },
    {
     "data": {
      "image/png": "[encoded data removed]",
      "text/plain": [
       "<Figure size 432x288 with 1 Axes>"
      ]
     },
     "metadata": {
      "needs_background": "light"
     },
     "output_type": "display_data"
    }
   ],
   "source": [
    "df.hist(column='Risk', bins=50)"
   ]
  },
  {
   "cell_type": "markdown",
   "metadata": {},
   "source": [
    "### Feature Selection\n",
    "\n",
    "Bu kısımda veriseti üzerinde etkili olan özellikler seçilecektir. Böylece Classification ve clustering kısımlarında daha etkili sonuçlar alabiliriz."
   ]
  },
  {
   "cell_type": "code",
   "execution_count": null,
   "metadata": {},
   "outputs": [],
   "source": []
  },
  {
   "cell_type": "markdown",
   "metadata": {},
   "source": [
    "##### Correlation Matrix\n",
    "\n",
    "Bu matris datasetti özelliklerin birbiriyle olan ilişkilerinin kuvvetini göstermektedir. Koyu renkli olan bölgelerdeki özellikler birbirleriyle kuvvetli ilişki içinde demektir. Datasetteki sınıf etiketi 'Risk' kolonudur. Bu kolonla en kuvvetli ilişki halinde olan kolonlar sırasıyla: \n",
    "\n",
    "1) Score_A (0.67)\n",
    "\n",
    "2) Score (0.63)\n",
    "\n",
    "3) Score_B (0.52)\n",
    "\n",
    "4) Money_Marks (0.44)\n",
    "\n",
    "\n",
    "Bu özelliklerin 'Information Gain' değeri yüksek çıkacaktır. İlerleyen bölümlerde hesaplanacaktır."
   ]
  },
  {
   "cell_type": "code",
   "execution_count": 7,
   "metadata": {},
   "outputs": [
    {
     "data": {
      "image/png": "[encoded data removed]",
      "text/plain": [
       "<Figure size 864x720 with 2 Axes>"
      ]
     },
     "metadata": {
      "needs_background": "light"
     },
     "output_type": "display_data"
    }
   ],
   "source": [
    "from numpy import set_printoptions\n",
    "from sklearn.feature_selection import SelectKBest\n",
    "from sklearn.feature_selection import f_classif\n",
    "from sklearn.feature_selection import chi2\n",
    "\n",
    "plt.figure(figsize=(12,10))\n",
    "cor = df.corr()\n",
    "sns.heatmap(cor, annot=True, cmap=plt.cm.Reds)\n",
    "plt.show()\n"
   ]
  },
  {
   "cell_type": "markdown",
   "metadata": {},
   "source": [
    "### Veri Temizleme\n",
    "\n",
    "Burada veriseti daha etkili hale getirilecektir. Bu bağlamda verisetindeki eksik değerler değiştirilecek, gerçersiz değere sahip olan datalar geçerli olanlarla değiştirilecektir. Eksik değerler için her özelliğin kendi içerisinde ortalaması alınmış ve eksik olan yere yazılmıştır. Veriset içerisinde 'LOCATION_ID' kolonu numeric değerleri içermektedir. Ancak verisetindeki bazı sample'larda bu alan String değerlerle doldurulmuştur. Örneğin bazı sample'larda 'SAFIDON', 'LOHARU' ve 'NUH' gibi değerler mevcuttur. 'LOCATION_ID' kolonu classification ve clustering'de bizim işimize yaramayacak bir özelliktir. Bu yüzden bu özellik için String yazılan yerlere rastgele sayılar yazılacaktır. Nitekim ilerleyen kod parçalarında görüleceği üzere bu kolonun ayırt ediciliği ve 'Information Gain' değeri çok az olduğundan elenecek ve dikkate alınmayacaktır."
   ]
  },
  {
   "cell_type": "code",
   "execution_count": 8,
   "metadata": {},
   "outputs": [],
   "source": [
    "# String değerlerin sayılarla değiştirilmesi\n",
    "mapping = {'SAFIDON': 1, 'LOHARU':0, 'NUH':2}\n",
    "df = df.replace({'LOCATION_ID': mapping})\n",
    "\n",
    "# Datasette eksik olan yerlerin ilgili kolonun ortalamasıyla doldurulması\n",
    "df = df.fillna(df.mean())\n",
    "\n",
    "\n",
    "# dataset ve class etiketlerinin alınması\n",
    "X = df[['Sector_score', 'LOCATION_ID', 'PARA_A', 'SCORE_A', 'PARA_B', 'SCORE_B',\n",
    "       'TOTAL', 'numbers', 'Marks', 'Money_Value', 'MONEY_Marks', 'District',\n",
    "       'Loss', 'LOSS_SCORE', 'History', 'History_score', 'Score']]\n",
    "y = df['Risk'].values\n",
    "\n",
    "\n"
   ]
  },
  {
   "cell_type": "markdown",
   "metadata": {},
   "source": [
    "### Veriseti içindeki özelliklerin sınıflamada ki ayırt ediciliklerine göre sıralanması\n",
    "\n",
    "###### Information Gain\n",
    "\n",
    "Information Gain, bir veri kümesinin dönüştürülmesinden kaynaklanan entropideki azalmayı hesaplar. Hedef değişken bağlamında her değişkenin bilgi kazancını değerlendirerek özellik seçimi için kullanılabilir.\n",
    "\n",
    "Aşağıda her bir özellik için information gain hesaplanmış ve ayırt edicilikleri belirlenmiştir. Grafikte görüleceği üzere ayırt ediciliği en fazla olan özellik 'Score' (0.66) olmuştur. Ayırt ediciliği 0.12'den az olan özellikler elenmiştir. Dolayısıyla clustering işlemi için Score, MONEY_Marks, MONEY_Marks, TOTAL, Score_B, Para_B, Score_A, Para_A özellikleri olmak üzere toplam 8 kolon kullanılacaktır. Geriye kalan özellikler elenmiştir."
   ]
  },
  {
   "cell_type": "code",
   "execution_count": 9,
   "metadata": {},
   "outputs": [
    {
     "data": {
      "image/png": "[encoded data removed]",
      "text/plain": [
       "<Figure size 432x288 with 1 Axes>"
      ]
     },
     "metadata": {
      "needs_background": "light"
     },
     "output_type": "display_data"
    },
    {
     "name": "stdout",
     "output_type": "stream",
     "text": [
      "Sector_score     0.113808\n",
      "LOCATION_ID      0.027444\n",
      "PARA_A           0.344880\n",
      "SCORE_A          0.365559\n",
      "PARA_B           0.199105\n",
      "SCORE_B          0.203333\n",
      "TOTAL            0.321142\n",
      "numbers          0.066736\n",
      "Marks            0.042980\n",
      "Money_Value      0.147622\n",
      "MONEY_Marks      0.126561\n",
      "District         0.080315\n",
      "Loss             0.017369\n",
      "LOSS_SCORE       0.001221\n",
      "History          0.000000\n",
      "History_score    0.031458\n",
      "Score            0.661546\n",
      "dtype: float64\n"
     ]
    }
   ],
   "source": [
    "from sklearn.feature_selection import mutual_info_classif\n",
    "import matplotlib.pyplot as plt\n",
    "\n",
    "\n",
    "importances = mutual_info_classif(X,y, random_state=0)\n",
    "f_importances = pd.Series(importances, X.columns[0:len(X.columns)])\n",
    "f_importances.plot(kind='barh', color = 'teal')\n",
    "plt.show()\n",
    "print(f_importances)"
   ]
  },
  {
   "cell_type": "code",
   "execution_count": 10,
   "metadata": {},
   "outputs": [],
   "source": [
    "names1 = ['PARA_A', 'SCORE_A', 'PARA_B', 'SCORE_B', 'TOTAL', 'Money_Value', 'MONEY_Marks','Score','Risk']"
   ]
  },
  {
   "cell_type": "markdown",
   "metadata": {},
   "source": [
    "#### Outlier Analysis\n",
    "\n",
    "Bu bölümde outlier analizi yapılacaktır. Veri dağılımına aykırı olan değerler tespit edilip ayıklanacaktır. Bunun için 'Box Plot Analizi' yapılacaktır. Feature selection kısmından sonra belirlenen tüm feature'lar(names) üzerinde gerçekleştirilecektir. Outlier değerler atılmadan önce 776 adet sample mevcuttu. Outlier değerler ayıklandıktan sonra bu sayı 568'e düşmüştür"
   ]
  },
  {
   "cell_type": "code",
   "execution_count": 11,
   "metadata": {},
   "outputs": [
    {
     "data": {
      "text/plain": [
       "<matplotlib.axes._subplots.AxesSubplot at 0x171c5a855c8>"
      ]
     },
     "execution_count": 11,
     "metadata": {},
     "output_type": "execute_result"
    },
    {
     "data": {
      "image/png": "[encoded data removed]",
      "text/plain": [
       "<Figure size 432x288 with 1 Axes>"
      ]
     },
     "metadata": {
      "needs_background": "light"
     },
     "output_type": "display_data"
    }
   ],
   "source": [
    "import seaborn as sns\n",
    "\n",
    "sns.boxplot(x=df['Score'])"
   ]
  },
  {
   "cell_type": "markdown",
   "metadata": {},
   "source": [
    "Outlier analizi için IQR kullanılmıştır. Belirlenen her özellik için, ilk olarak Q1 ve Q3 belirlenmiş daha sonra IQR bulunmuş ve 1.5IQR değerinden uzakta olan sample'lar elenmiştir. Bu işlem sonucunda 776 sample'dan 208 sample elenmiş ve geriye 568 tane kalmıştır."
   ]
  },
  {
   "cell_type": "code",
   "execution_count": 12,
   "metadata": {},
   "outputs": [
    {
     "name": "stdout",
     "output_type": "stream",
     "text": [
      "PARA_A         2.27\n",
      "SCORE_A        4.00\n",
      "PARA_B         4.16\n",
      "SCORE_B        2.00\n",
      "TOTAL          7.17\n",
      "Money_Value    5.63\n",
      "MONEY_Marks    2.00\n",
      "Score          1.25\n",
      "Risk           1.00\n",
      "dtype: float64\n"
     ]
    },
    {
     "data": {
      "text/plain": [
       "(568, 9)"
      ]
     },
     "execution_count": 12,
     "metadata": {},
     "output_type": "execute_result"
    }
   ],
   "source": [
    "a = df[names1]\n",
    "\n",
    "Q1 = a.quantile(0.25)\n",
    "Q3 = a.quantile(0.75)\n",
    "IQR = Q3 - Q1\n",
    "print(IQR)\n",
    "\n",
    "df_out = a[~((df < (Q1 - 1.5 * IQR)) |(df > (Q3 + 1.5 * IQR))).any(axis=1)]\n",
    "\n",
    "df_out.shape"
   ]
  },
  {
   "cell_type": "markdown",
   "metadata": {},
   "source": [
    "## Verisetinin Ayrıntılı İncelenmesi\n",
    "\n",
    "Bu kısımda veri seti ayrıntılı olarak incelenecektir. Ayırt ediciliği en yüksek olan 'Score' özelliğine baktığımızda verinin neden bu kadar ayırt edici olduğunu rahat bir şekilde görebiliyoruz. 776 tane sample'ın 'Score' özelliği dağılımı aşağıda verilmiştir. Burada dikkat çeken nokta 2.0 değerine sahip olan sample'lardır. 'Score' değeri 2 olan toplam 290 tane sample mevcuttur ve bu sample'ların tamamı 0.classa(Risksiz) aittir. 2 haricindeki sample'ların tamamı(486 tane) ise 1.classa(Riskli) aittir. 'Score' özelliği sayesinde veri çok keskin biçimde ayrışabilmektedir."
   ]
  },
  {
   "cell_type": "code",
   "execution_count": 13,
   "metadata": {},
   "outputs": [
    {
     "name": "stdout",
     "output_type": "stream",
     "text": [
      "Score özelliğinin dağılımı:\n",
      "Değer Sample Sayısı\n",
      "2.0    290\n",
      "2.2     97\n",
      "2.4     79\n",
      "2.6     51\n",
      "4.0     36\n",
      "3.6     30\n",
      "4.2     30\n",
      "3.8     27\n",
      "3.2     26\n",
      "4.4     24\n",
      "2.8     20\n",
      "3.4     19\n",
      "3.0     19\n",
      "4.8     13\n",
      "4.6      9\n",
      "5.2      4\n",
      "5.0      2\n",
      "Name: Score, dtype: int64\n",
      "\n",
      "\n",
      "Score değeri 2 olan sample'ların sınıf dağılımı : 0    290\n",
      "Name: Risk, dtype: int64\n",
      "Score değeri 2 olmayan sample'ların sınıf dağılımı : 1    486\n",
      "Name: Risk, dtype: int64\n",
      "Toplam sample sayısı :  776 (290+486 = 776)\n"
     ]
    }
   ],
   "source": [
    "print('Score özelliğinin dağılımı:\\nDeğer Sample Sayısı')\n",
    "print(df['Score'].value_counts())\n",
    "print('\\n')\n",
    "print('Score değeri 2 olan sample\\'ların sınıf dağılımı :',df[df.Score == 2]['Risk'].value_counts())\n",
    "print('Score değeri 2 olmayan sample\\'ların sınıf dağılımı :',df[df.Score != 2]['Risk'].value_counts())\n",
    "print('Toplam sample sayısı : ',len(df),'(290+486 = 776)')"
   ]
  },
  {
   "cell_type": "code",
   "execution_count": 14,
   "metadata": {},
   "outputs": [],
   "source": [
    "names = ['PARA_A', 'SCORE_A', 'PARA_B', 'SCORE_B', 'TOTAL', 'Money_Value', 'MONEY_Marks','Score']"
   ]
  },
  {
   "cell_type": "markdown",
   "metadata": {},
   "source": [
    "# Sınıflama\n",
    "\n",
    "Bu kısımda 3 farklı algoritmadan yararlanılarak sınıflandırma yapılacaktır. Bunlar Naive Bayes, KNN ve Decision Tree'dir. Her bir algoritma için sınıflandırma yapılacak, başarı oranları karşılaştırılacak ve confusion matris'i incelenecektir.\n",
    "\n",
    "### Datasetin Hazırlanması\n",
    "\n",
    "Dataset train ve test set olmak üzere 2'ye bölünecektir. Datasetin %80'si train %20'si ise test set olarak kullanılacaktır."
   ]
  },
  {
   "cell_type": "code",
   "execution_count": 15,
   "metadata": {},
   "outputs": [
    {
     "name": "stdout",
     "output_type": "stream",
     "text": [
      "Train set: (454, 8) (454,)\n",
      "Test set: (114, 8) (114,)\n"
     ]
    }
   ],
   "source": [
    "from sklearn import preprocessing\n",
    "from sklearn.model_selection import train_test_split\n",
    "from sklearn.metrics import classification_report, confusion_matrix\n",
    "\n",
    "df_out = df_out.fillna(df_out.mean())\n",
    "\n",
    "X = df_out[names]\n",
    "y = df_out['Risk'].values\n",
    "\n",
    "X_train, X_test, y_train, y_test = train_test_split( X, y, test_size=0.2, random_state=0, shuffle=True)\n",
    "print ('Train set:', X_train.shape,  y_train.shape)\n",
    "print ('Test set:', X_test.shape,  y_test.shape)"
   ]
  },
  {
   "cell_type": "markdown",
   "metadata": {},
   "source": [
    "### 1) Naive Bayes\n",
    "\n",
    "Sınıflandırma metodlarından ilki Naive Bayes olacaktır. Bu algoritmanın başarısı(%99) oldukça yüksektir. F1-score, precision ve recall değerleri aşağıda verilmiştir. Confusion matris'e bakıldığında sadece 1 tane sınıflandırmada hata çıkmıştır. Başarının bu kadar yüksek çıkmasının sebebi, Verisetinin Ayrıntılı İncelenmesi kısmında anlatıldığı üzere, verisetinin çok iyi ayrıştırıcılığa sahip kolonları olmasıdır."
   ]
  },
  {
   "cell_type": "code",
   "execution_count": 16,
   "metadata": {},
   "outputs": [
    {
     "name": "stdout",
     "output_type": "stream",
     "text": [
      "Accuracy değeri :  0.9912280701754386\n",
      "              precision    recall  f1-score   support\n",
      "\n",
      "           0       1.00      0.99      0.99        69\n",
      "           1       0.98      1.00      0.99        45\n",
      "\n",
      "    accuracy                           0.99       114\n",
      "   macro avg       0.99      0.99      0.99       114\n",
      "weighted avg       0.99      0.99      0.99       114\n",
      "\n",
      "Confusion Matrix\n",
      " [[68  1]\n",
      " [ 0 45]]\n"
     ]
    }
   ],
   "source": [
    "from sklearn.naive_bayes import GaussianNB\n",
    "from sklearn import metrics\n",
    "\n",
    "clf = GaussianNB()\n",
    "clf.fit(X_train, y_train)\n",
    "\n",
    "yhat=(clf.predict(X_test))\n",
    "acc_naive = metrics.accuracy_score(y_test, yhat)\n",
    "\n",
    "print(\"Accuracy değeri : \", acc_naive)\n",
    "print(metrics.classification_report(y_test,yhat))\n",
    "print('Confusion Matrix\\n',confusion_matrix(y_test, yhat))"
   ]
  },
  {
   "cell_type": "markdown",
   "metadata": {},
   "source": [
    "#### 5-fold Cross Validation\n",
    "\n",
    "Dataset üzerinde 5-fold Cross Validation yapılmıştır. Sonuçlara bakıldığında, datasetin iyi olmasına bağlı olarak çok yüksek olduğu görülmektedir."
   ]
  },
  {
   "cell_type": "code",
   "execution_count": 17,
   "metadata": {},
   "outputs": [
    {
     "name": "stdout",
     "output_type": "stream",
     "text": [
      "[1.         0.98901099 1.         1.         1.        ]\n"
     ]
    }
   ],
   "source": [
    "from sklearn import metrics\n",
    "from sklearn.model_selection import cross_val_score\n",
    "\n",
    "scores = cross_val_score(clf, X_train, y_train, cv=5)\n",
    "print(scores)"
   ]
  },
  {
   "cell_type": "markdown",
   "metadata": {},
   "source": [
    "### 2) K - Nearest Neighbor Classifier\n",
    "\n",
    "Sınıflandırma metodlarından ikincisi K - Nearest Neighbor olacaktır. Bu algoritmanın başarısı da oldukça yüksektir. F1-score, precision ve recall değerleri aşağıda verilmiştir. Confusion matris'e bakıldığında hiç hata çıkmamıştır. Başarının bu kadar yüksek çıkmasının sebebi, Verisetinin Ayrıntılı İncelenmesi kısmında anlatıldığı üzere, verisetinin çok iyi ayrıştırıcılığa sahip kolonları olmasıdır."
   ]
  },
  {
   "cell_type": "code",
   "execution_count": 18,
   "metadata": {},
   "outputs": [
    {
     "name": "stdout",
     "output_type": "stream",
     "text": [
      "Accuracy değeri:  1.0\n",
      "              precision    recall  f1-score   support\n",
      "\n",
      "           0       1.00      1.00      1.00        69\n",
      "           1       1.00      1.00      1.00        45\n",
      "\n",
      "    accuracy                           1.00       114\n",
      "   macro avg       1.00      1.00      1.00       114\n",
      "weighted avg       1.00      1.00      1.00       114\n",
      "\n",
      "Confusion Matrix\n",
      " [[69  0]\n",
      " [ 0 45]]\n"
     ]
    }
   ],
   "source": [
    "from sklearn.neighbors import KNeighborsClassifier\n",
    "from sklearn.metrics import classification_report, confusion_matrix\n",
    "\n",
    "knn = KNeighborsClassifier(n_neighbors=7)\n",
    "knn.fit(X_train, y_train)\n",
    "y_pred = knn.predict(X_test)\n",
    "\n",
    "acc_knn = metrics.accuracy_score(y_test, y_pred)\n",
    "print(\"Accuracy değeri: \", acc_knn)\n",
    "print(classification_report(y_test, y_pred))\n",
    "print('Confusion Matrix\\n',confusion_matrix(y_test, y_pred))"
   ]
  },
  {
   "cell_type": "markdown",
   "metadata": {},
   "source": [
    "#### 5-fold Cross Validation\n",
    "\n",
    "Dataset üzerinde 5-fold Cross Validation yapılmıştır. Sonuçlara bakıldığında, datasetin iyi olmasına bağlı olarak çok yüksek olduğu görülmektedir. En düşük değer 0.92, en yüksek değer 0.97 olmuştur."
   ]
  },
  {
   "cell_type": "code",
   "execution_count": 19,
   "metadata": {},
   "outputs": [
    {
     "name": "stdout",
     "output_type": "stream",
     "text": [
      "[0.93406593 0.96703297 0.92307692 0.97802198 0.93333333]\n"
     ]
    }
   ],
   "source": [
    "scores = cross_val_score(knn, X_train, y_train, cv=5)\n",
    "print(scores)"
   ]
  },
  {
   "cell_type": "markdown",
   "metadata": {},
   "source": [
    "#### Komşu Sayısının Başarıya Oranı\n",
    "\n",
    "Bu kısımda KNN Algoritmasının başarısının komşu sayısına bağlı olarak değişimi incelenecektir. Komşu sayısı 1'den başlayıp 101'e kadar gitmektedir. Komşu sayısı ile başarı oranı ilişkisi grafikte gösterilmiştir. Grafiğe bakıldığında başarının en yüksek olduğu yer K=7,9,11 olduğu yerdir. En düşük olduğu yer ise K'nın 61 ve üzeri değer aldığı yerlerdir."
   ]
  },
  {
   "cell_type": "code",
   "execution_count": 20,
   "metadata": {},
   "outputs": [
    {
     "data": {
      "text/plain": [
       "Text(0, 0.5, 'Accuracy')"
      ]
     },
     "execution_count": 20,
     "metadata": {},
     "output_type": "execute_result"
    },
    {
     "data": {
      "image/png": "[encoded data removed]",
      "text/plain": [
       "<Figure size 864x432 with 1 Axes>"
      ]
     },
     "metadata": {
      "needs_background": "light"
     },
     "output_type": "display_data"
    }
   ],
   "source": [
    "error = []\n",
    "\n",
    "for i in range(1, 100):\n",
    "    knn = KNeighborsClassifier(n_neighbors=i+2)\n",
    "    knn.fit(X_train, y_train)\n",
    "    pred_i = knn.predict(X_test)\n",
    "    error.append(metrics.accuracy_score(y_test, pred_i))\n",
    "    \n",
    "plt.figure(figsize=(12, 6))\n",
    "plt.plot(range(1, 100), error, color='red', linestyle='dashed', marker='o',\n",
    "         markerfacecolor='blue', markersize=10)\n",
    "plt.title('Accuracy - K Value')\n",
    "plt.xlabel('Komşu sayısı')\n",
    "plt.ylabel('Accuracy')"
   ]
  },
  {
   "cell_type": "markdown",
   "metadata": {},
   "source": [
    "### 3) Decision Tree\n",
    "\n",
    "Son sınıflandırma algoritması ise Decision Tree'dir. Bu algoritmanın başarısı da oldukça yüksektir. F1-score, precision ve recall değerleri aşağıda verilmiştir. Confusion matris'e bakıldığında hiç hata çıkmamıştır. "
   ]
  },
  {
   "cell_type": "code",
   "execution_count": 21,
   "metadata": {},
   "outputs": [
    {
     "name": "stdout",
     "output_type": "stream",
     "text": [
      "Accuracy: 1.0\n",
      "              precision    recall  f1-score   support\n",
      "\n",
      "           0       1.00      1.00      1.00        69\n",
      "           1       1.00      1.00      1.00        45\n",
      "\n",
      "    accuracy                           1.00       114\n",
      "   macro avg       1.00      1.00      1.00       114\n",
      "weighted avg       1.00      1.00      1.00       114\n",
      "\n",
      "Confusion Matrix\n",
      " [[69  0]\n",
      " [ 0 45]]\n"
     ]
    }
   ],
   "source": [
    "from sklearn.tree import DecisionTreeClassifier # Import Decision Tree Classifier\n",
    "from sklearn.model_selection import train_test_split\n",
    "\n",
    "tree = DecisionTreeClassifier(random_state=0)\n",
    "\n",
    "tree = tree.fit(X_train,y_train)\n",
    "y_pred = tree.predict(X_test)\n",
    "\n",
    "acc_dt = metrics.accuracy_score(y_test, y_pred)\n",
    "\n",
    "print(\"Accuracy:\",acc_dt)\n",
    "print(classification_report(y_test, y_pred))\n",
    "print('Confusion Matrix\\n',confusion_matrix(y_test, y_pred))"
   ]
  },
  {
   "cell_type": "markdown",
   "metadata": {},
   "source": [
    "#### 5-fold Cross Validation\n",
    "Dataset üzerinde 5-fold Cross Validation yapılmıştır. Sonuçlara bakıldığında, datasetin iyi olmasına bağlı olarak çok yüksek olduğu görülmektedir."
   ]
  },
  {
   "cell_type": "code",
   "execution_count": 22,
   "metadata": {},
   "outputs": [
    {
     "name": "stdout",
     "output_type": "stream",
     "text": [
      "[1. 1. 1. 1. 1.]\n"
     ]
    }
   ],
   "source": [
    "scores = cross_val_score(tree, X_train, y_train, cv=5)\n",
    "print(scores)"
   ]
  },
  {
   "cell_type": "markdown",
   "metadata": {},
   "source": [
    "### Sonuç\n",
    "\n",
    "Sınıflandırma için Naive Bayes, KNN ve Decision Tree olmak üzere 3 farklı algoritma kullanılmıştır. Algoritmaların başarısı oldukça yüksektir. 5-fold Cross Validation yapılarak da bu teyit edilmiştir. Sebebi ise verisetinde çok iyi özelliklerin bulunmasıdır. 3 algoritmada da başarı neredeyse yüzde 100 çıkmıştır. Bu imkansız gibi görünse de veriseti ayrıntılı şekilde incelendiğinde anlaşılmaktadır."
   ]
  },
  {
   "cell_type": "code",
   "execution_count": 23,
   "metadata": {},
   "outputs": [
    {
     "name": "stdout",
     "output_type": "stream",
     "text": [
      "  #  Algoritma        Accuracy(%)\n",
      "---  -------------  -------------\n",
      "  1  Naive Bayes          99.1228\n",
      "  2  KNN                 100\n",
      "  3  Decision Tree       100\n"
     ]
    }
   ],
   "source": [
    "from tabulate import tabulate\n",
    "print(tabulate(\n",
    "    [['1','Naive Bayes', acc_naive*100],\n",
    "     ['2','KNN', acc_knn*100],\n",
    "     ['3','Decision Tree', acc_dt*100]\n",
    "    ],\n",
    "    headers=['#', 'Algoritma', 'Accuracy(%)']))"
   ]
  },
  {
   "cell_type": "markdown",
   "metadata": {},
   "source": [
    "# Clustering\n",
    "\n",
    "Bu kısımda 3 farklı algoritmadan yararlanılarak clustering yapılacaktır. Bunlar K Means, Hierarchical(Agglomerative) ve Mini Batch K Means'dir. Her bir algoritma için hem outlier analiz yapılmış data ile hem de tüm datalar ile clustering gerçekleştirilecektir. Her bir clustering yöntemi için başarı ölçülecek ve karşılaştırılacaktır.\n",
    "\n",
    "\n",
    "## Data Hazırlama\n",
    "\n",
    "Datanın tümü ve outler analizi yapılmış data hazırlanmıştır. Toplam 776 sample mevcuttur. Outlier Analizi ile bu sayı 568'e düşmektedir. "
   ]
  },
  {
   "cell_type": "code",
   "execution_count": 38,
   "metadata": {},
   "outputs": [
    {
     "name": "stdout",
     "output_type": "stream",
     "text": [
      "Training data full : (776, 8)\n",
      "Training data label full : (776,)\n",
      "Training data outlier analizi : (568, 8)\n",
      "Training data label outlier analizi : (568,)\n"
     ]
    }
   ],
   "source": [
    "from sklearn.metrics.cluster import homogeneity_score\n",
    "\n",
    "X_tr_full = df[names]\n",
    "y_full = df['Risk']\n",
    "\n",
    "X_tr_out = df_out[names]\n",
    "y_out = df_out['Risk']\n",
    "\n",
    "print('Training data full :',X_tr_full.shape)\n",
    "print('Training data label full :',y_full.shape)\n",
    "\n",
    "print('Training data outlier analizi :',X_tr_out.shape)\n",
    "print('Training data label outlier analizi :',y_out.shape)"
   ]
  },
  {
   "cell_type": "markdown",
   "metadata": {},
   "source": [
    "## 1) K Means Clustering\n",
    "\n",
    "Clustering algoritmalarından ilki K Means'tir. Bu algoritmanın başarısı oldukça düşüktür.\n",
    "\n",
    "###### 1- Datanın tamamının kullanılması durumunda clustering başarısı : % 37.5"
   ]
  },
  {
   "cell_type": "code",
   "execution_count": 25,
   "metadata": {},
   "outputs": [
    {
     "name": "stdout",
     "output_type": "stream",
     "text": [
      "Accuracy : 0.375\n"
     ]
    }
   ],
   "source": [
    "from sklearn.cluster import KMeans\n",
    "\n",
    "kmeans = KMeans(n_clusters=2, random_state=0, max_iter=300)\n",
    "kmeans.fit(X_tr_full)\n",
    "\n",
    "y_kmeans = kmeans.predict(X_tr_full)\n",
    "\n",
    "full_kmeans = metrics.accuracy_score(y_full, y_kmeans)\n",
    "print(\"Accuracy :\",full_kmeans)"
   ]
  },
  {
   "cell_type": "markdown",
   "metadata": {},
   "source": [
    "###### 2- Outlier analysis'dan sonra oluşan datanın kullanılması durumunda clustering başarısı :  % 60.9"
   ]
  },
  {
   "cell_type": "code",
   "execution_count": 26,
   "metadata": {},
   "outputs": [
    {
     "name": "stdout",
     "output_type": "stream",
     "text": [
      "Accuracy : 0.6091549295774648\n"
     ]
    }
   ],
   "source": [
    "kmeans = KMeans(n_clusters=2, random_state=0, max_iter=300)\n",
    "kmeans.fit(X_tr_out)\n",
    "\n",
    "y_kmeans = kmeans.predict(X_tr_out)\n",
    "\n",
    "out_kmeans = metrics.accuracy_score(y_out, y_kmeans)\n",
    "print(\"Accuracy :\",out_kmeans)"
   ]
  },
  {
   "cell_type": "markdown",
   "metadata": {},
   "source": [
    "## 2) Hierarchical (Agglomerative) Clustering\n",
    "\n",
    "Clustering algoritmalarından ikincisi Hierarchical'dir. Bu algoritma için Agglomerative clustering yapılacaktır. Agglomerative clustering'in 'Single', 'Complete' ve 'Average' olmak üzere 3 farklı şekli için clustering işlemi gerçekleştirilecektir. \n",
    "\n",
    "Hierarchical Clustering'in başarısı K Means'e göre düşük çıkmıştır.\n",
    "\n",
    "#### 2.1 Complete Linkage\n",
    "\n",
    "Complete Linkage ile kümeleme yapılırken maksimum uzaklık esas alınır. Sonuçları aşağıda verilmiştir. \n",
    "\n",
    "###### 2.1.1 Datanın tamamının kullanılması durumunda clustering başarısı : % 37.5"
   ]
  },
  {
   "cell_type": "code",
   "execution_count": 27,
   "metadata": {},
   "outputs": [
    {
     "name": "stdout",
     "output_type": "stream",
     "text": [
      "Accuracy : 0.375\n"
     ]
    }
   ],
   "source": [
    "from scipy.cluster.hierarchy import dendrogram, linkage\n",
    "from sklearn.cluster import AgglomerativeClustering\n",
    "\n",
    "cluster = AgglomerativeClustering(n_clusters=2, affinity='euclidean', linkage='complete').fit(X_tr_full)\n",
    "y_pred = cluster.fit_predict(X_tr_full)\n",
    "\n",
    "full_agglo_comp = metrics.accuracy_score(y_full, y_pred)\n",
    "print(\"Accuracy :\",full_agglo_comp)\n"
   ]
  },
  {
   "cell_type": "markdown",
   "metadata": {},
   "source": [
    "###### 2.1.2 Outlier analysis'dan sonra oluşan datanın kullanılması durumunda clustering başarısı : % 42.6"
   ]
  },
  {
   "cell_type": "code",
   "execution_count": 28,
   "metadata": {
    "scrolled": false
   },
   "outputs": [
    {
     "name": "stdout",
     "output_type": "stream",
     "text": [
      "Accuracy : 0.426056338028169\n"
     ]
    }
   ],
   "source": [
    "cluster = AgglomerativeClustering(n_clusters=2, affinity='euclidean', linkage='complete').fit(X_tr_out)\n",
    "y_pred = cluster.fit_predict(X_tr_out)\n",
    "\n",
    "out_agglo_comp = metrics.accuracy_score(y_out, y_pred)\n",
    "print(\"Accuracy :\",out_agglo_comp)"
   ]
  },
  {
   "cell_type": "markdown",
   "metadata": {},
   "source": [
    "#### 2.2 Single Linkage\n",
    "\n",
    "Complete Linkage ile kümeleme yapılırken minimum uzaklık esas alınır. Sonuçları aşağıda verilmiştir.\n",
    "\n",
    "###### 2.2.1  Datanın tamamının kullanılması durumunda clustering başarısı : % 37.5"
   ]
  },
  {
   "cell_type": "code",
   "execution_count": 29,
   "metadata": {},
   "outputs": [
    {
     "name": "stdout",
     "output_type": "stream",
     "text": [
      "Accuracy : 0.375\n"
     ]
    }
   ],
   "source": [
    "cluster = AgglomerativeClustering(n_clusters=2, affinity='euclidean', linkage='single').fit(X_tr_full)\n",
    "y_pred = cluster.fit_predict(X_tr_full)\n",
    "\n",
    "full_agglo_sing = metrics.accuracy_score(y_full, y_pred)\n",
    "\n",
    "print(\"Accuracy :\",full_agglo_sing)\n"
   ]
  },
  {
   "cell_type": "markdown",
   "metadata": {},
   "source": [
    "###### 2.2.2 Outlier analysis'dan sonra oluşan datanın kullanılması durumunda clustering başarısı : % 51.5"
   ]
  },
  {
   "cell_type": "code",
   "execution_count": 30,
   "metadata": {},
   "outputs": [
    {
     "name": "stdout",
     "output_type": "stream",
     "text": [
      "Accuracy : 0.5158450704225352\n"
     ]
    }
   ],
   "source": [
    "cluster = AgglomerativeClustering(n_clusters=2, affinity='euclidean', linkage='single').fit(X_tr_out)\n",
    "y_pred = cluster.fit_predict(X_tr_out)\n",
    "\n",
    "out_agglo_sing = metrics.accuracy_score(y_out, y_pred)\n",
    "\n",
    "print(\"Accuracy :\",out_agglo_sing)\n"
   ]
  },
  {
   "cell_type": "markdown",
   "metadata": {},
   "source": [
    "#### 2.3 Average Linkage\n",
    "\n",
    "Complete Linkage ile kümeleme yapılırken ortalama uzaklık esas alınır. Sonuçları aşağıda verilmiştir.\n",
    "\n",
    "###### 2.3.1  Datanın tamamının kullanılması durumunda clustering başarısı : % 37.5"
   ]
  },
  {
   "cell_type": "code",
   "execution_count": 31,
   "metadata": {},
   "outputs": [
    {
     "name": "stdout",
     "output_type": "stream",
     "text": [
      "Accuracy : 0.375\n"
     ]
    }
   ],
   "source": [
    "cluster = AgglomerativeClustering(n_clusters=2, affinity='euclidean', linkage='average')\n",
    "y_pred = cluster.fit_predict(X_tr_full)\n",
    "\n",
    "full_agglo_avg = metrics.accuracy_score(y_full, y_pred)\n",
    "\n",
    "print(\"Accuracy :\",full_agglo_avg)"
   ]
  },
  {
   "cell_type": "markdown",
   "metadata": {},
   "source": [
    "###### 2.3.2  Outlier analysis'dan sonra oluşan datanın kullanılması durumunda clustering başarısı : % 54.7"
   ]
  },
  {
   "cell_type": "code",
   "execution_count": 32,
   "metadata": {},
   "outputs": [
    {
     "name": "stdout",
     "output_type": "stream",
     "text": [
      "Accuracy : 0.5475352112676056\n"
     ]
    }
   ],
   "source": [
    "cluster = AgglomerativeClustering(n_clusters=2, affinity='euclidean', linkage='average')\n",
    "y_pred = cluster.fit_predict(X_tr_out)\n",
    "\n",
    "out_agglo_avg = metrics.accuracy_score(y_out, y_pred)\n",
    "print(\"Accuracy :\",out_agglo_avg)"
   ]
  },
  {
   "cell_type": "markdown",
   "metadata": {},
   "source": [
    "## 3) Mini Batch K Means\n",
    "\n",
    "Clustering algoritmalarının sonuncusu ie Mini Batch K Means'tir. Bu algoritmanın başarısı diğer clustering algoritmalarına göre yüksek çıkmıştır.\n",
    "\n",
    "###### 3.1  Datanın tamamının kullanılması durumunda clustering başarısı : % 50.6"
   ]
  },
  {
   "cell_type": "code",
   "execution_count": 33,
   "metadata": {},
   "outputs": [
    {
     "name": "stdout",
     "output_type": "stream",
     "text": [
      "Accuracy : 0.5064432989690721\n"
     ]
    }
   ],
   "source": [
    "from sklearn.cluster import MiniBatchKMeans\n",
    "\n",
    "clustering = MiniBatchKMeans(n_clusters=2,random_state=0,batch_size=6).fit(X_tr_full)\n",
    "labels = clustering.labels_\n",
    "\n",
    "full_min = metrics.accuracy_score(y_full, labels)\n",
    "\n",
    "print(\"Accuracy :\",full_min)"
   ]
  },
  {
   "cell_type": "markdown",
   "metadata": {},
   "source": [
    "###### 3.2  Outlier analysis'dan sonra oluşan datanın kullanılması durumunda clustering başarısı : % 60.3"
   ]
  },
  {
   "cell_type": "code",
   "execution_count": 34,
   "metadata": {},
   "outputs": [
    {
     "name": "stdout",
     "output_type": "stream",
     "text": [
      "Accuracy : 0.6038732394366197\n"
     ]
    }
   ],
   "source": [
    "clustering = MiniBatchKMeans(n_clusters=2,random_state=0,batch_size=6).fit(X_tr_out)\n",
    "labels = clustering.labels_\n",
    "\n",
    "out_min = metrics.accuracy_score(y_out, labels)\n",
    "print(\"Accuracy :\",out_min)"
   ]
  },
  {
   "cell_type": "markdown",
   "metadata": {},
   "source": [
    "## 4) Spectral Clustering\n",
    "\n",
    "##### 4.1 Datanın tamamının kullanılması durumunda clustering başarısı : % 93.2"
   ]
  },
  {
   "cell_type": "code",
   "execution_count": 35,
   "metadata": {},
   "outputs": [
    {
     "name": "stdout",
     "output_type": "stream",
     "text": [
      "Accuracy : 0.9329896907216495\n"
     ]
    }
   ],
   "source": [
    "from sklearn.cluster import SpectralClustering\n",
    "\n",
    "model = SpectralClustering(n_clusters=2, affinity='nearest_neighbors',assign_labels='kmeans', random_state=0)\n",
    "spre_pred = model.fit_predict(X_tr_full)\n",
    "\n",
    "full_spec = metrics.accuracy_score(y_full, spre_pred)\n",
    "\n",
    "print(\"Accuracy :\",full_spec)"
   ]
  },
  {
   "cell_type": "markdown",
   "metadata": {},
   "source": [
    "##### 4.2 Outlier analysis'dan sonra oluşan datanın kullanılması durumunda clustering başarısı : % 93.2"
   ]
  },
  {
   "cell_type": "code",
   "execution_count": 39,
   "metadata": {},
   "outputs": [
    {
     "name": "stdout",
     "output_type": "stream",
     "text": [
      "Accuracy : 0.9119718309859155\n"
     ]
    }
   ],
   "source": [
    "model = SpectralClustering(n_clusters=2, affinity='nearest_neighbors',assign_labels='kmeans', random_state=0).fit(X_tr_out)\n",
    "labelsS = model.fit_predict(X_tr_out)\n",
    "\n",
    "out_spec = metrics.accuracy_score(y_out, labelsS)\n",
    "print(\"Accuracy :\",out_spec)"
   ]
  },
  {
   "cell_type": "markdown",
   "metadata": {},
   "source": [
    "## Sonuç\n",
    "\n",
    "4 farklı algoritmanın sonucu aşağıdaki tabloda verilmiştir. Sonuçlara bakıldığında Outlier analizi yapılmış dataset üzerindeki accuracy değerleri daha yüksek çıkmıtır. Böylece outlier analizinin önemi görülmektedir. Algoritmaların başarılarına bakıldığında en yüksek accuracy değeri %91.1 ile 'Spectral Clustering' algoritmasına aittir. Ardından K means algoritması (%60.9), daha sonra 'Mini Batch K Means' (%60.3) ve en son Hierarchical(Agglomerative)(ortalama %49) gelmektedir.\n",
    "\n",
    "Hierarchical(Agglomerative) clustering algoritması 3 farklı şekilde gerçekleştirilmiştir. Bunlar Single, Complete ve Average Linkage'dir. Aralarındaki fark, noktaların seçilmesi sırasında minimum(single),maksimum(complete) ve ortalama(average) uzaklığa bakılmasıdır. Bu algoritmaların accuracy değerlerine bakacak olursak, en yüksek başarı %54.7 ile 'Average Linkage'e aittir. Daha sonra %51 ile 'Single Linkage' ve en son %42 ile 'Complete Linkage' yer almaktadır. Complete linkage gözle görülür biçimde düşük çıkmıştır.  "
   ]
  },
  {
   "cell_type": "code",
   "execution_count": 40,
   "metadata": {},
   "outputs": [
    {
     "name": "stdout",
     "output_type": "stream",
     "text": [
      "  #  Algoritma                          Full Dataset(%)    Outlier Analizi Yapılmış Dataset(%)\n",
      "---  -------------------------------  -----------------  -------------------------------------\n",
      "1    K Means                                    37.5                                   60.9155\n",
      "2.1  Agglomerative(Single Linkage)              37.5                                   51.5845\n",
      "2.2  Agglomerative(Complete Linkage)            37.5                                   42.6056\n",
      "2.3  Agglomerative(Average Linkage)             37.5                                   54.7535\n",
      "3    Mini Batch K Means                         50.6443                                60.3873\n",
      "4    Spectral Clustering                        93.299                                 91.1972\n"
     ]
    }
   ],
   "source": [
    "from tabulate import tabulate\n",
    "print(tabulate(\n",
    "    [['1','K Means', full_kmeans*100, out_kmeans*100], \n",
    "     ['2.1','Agglomerative(Single Linkage)', full_agglo_sing*100, out_agglo_sing*100],\n",
    "     ['2.2','Agglomerative(Complete Linkage)', full_agglo_comp*100, out_agglo_comp*100],\n",
    "     ['2.3','Agglomerative(Average Linkage)', full_agglo_avg*100, out_agglo_avg*100],\n",
    "     ['3','Mini Batch K Means', full_min*100, out_min*100],\n",
    "     ['4','Spectral Clustering', full_spec*100, out_spec*100]\n",
    "    ],\n",
    "    headers=['#', 'Algoritma', 'Full Dataset(%)', 'Outlier Analizi Yapılmış Dataset(%)']))"
   ]
  },
  {
   "cell_type": "code",
   "execution_count": null,
   "metadata": {},
   "outputs": [],
   "source": []
  }
 ],
 "metadata": {
  "kernelspec": {
   "display_name": "Python 3",
   "language": "python",
   "name": "python3"
  },
  "language_info": {
   "codemirror_mode": {
    "name": "ipython",
    "version": 3
   },
   "file_extension": ".py",
   "mimetype": "text/x-python",
   "name": "python",
   "nbconvert_exporter": "python",
   "pygments_lexer": "ipython3",
   "version": "3.7.6"
  }
 },
 "nbformat": 4,
 "nbformat_minor": 4
}
